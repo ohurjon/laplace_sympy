{
 "cells": [
  {
   "cell_type": "code",
   "execution_count": 1,
   "metadata": {},
   "outputs": [],
   "source": [
    "from sympy import symbols\n",
    "\n",
    "t, s= symbols(\"t s\")"
   ]
  },
  {
   "cell_type": "code",
   "execution_count": 10,
   "metadata": {},
   "outputs": [
    {
     "data": {
      "text/latex": [
       "$\\displaystyle \\cos{\\left(2 \\pi t + \\frac{\\pi}{3} \\right)} \\theta\\left(t\\right)$"
      ],
      "text/plain": [
       "cos(2*pi*t + pi/3)*Heaviside(t)"
      ]
     },
     "metadata": {},
     "output_type": "display_data"
    },
    {
     "data": {
      "text/latex": [
       "$\\displaystyle t^{3} e^{- 2 t} \\theta\\left(t\\right)$"
      ],
      "text/plain": [
       "t**3*exp(-2*t)*Heaviside(t)"
      ]
     },
     "metadata": {},
     "output_type": "display_data"
    },
    {
     "data": {
      "text/latex": [
       "$\\displaystyle \\theta\\left(t\\right)$"
      ],
      "text/plain": [
       "Heaviside(t)"
      ]
     },
     "metadata": {},
     "output_type": "display_data"
    },
    {
     "data": {
      "text/latex": [
       "$\\displaystyle \\left(\\sin{\\left(\\pi t \\right)} + \\cos{\\left(\\pi t + \\frac{\\pi}{2} \\right)}\\right) \\theta\\left(t\\right)$"
      ],
      "text/plain": [
       "(sin(pi*t) + cos(pi*t + pi/2))*Heaviside(t)"
      ]
     },
     "metadata": {},
     "output_type": "display_data"
    }
   ],
   "source": [
    "from sympy import pi, cos, sin, Heaviside, exp, plot\n",
    "from IPython.display import display\n",
    "\n",
    "u = Heaviside(t)\n",
    "\n",
    "signal_a = cos(2*pi*t + pi/3) * u\n",
    "signal_b = t**3*exp(-2*t) * Heaviside(t)\n",
    "signal_c = u\n",
    "signal_d = (cos(pi*t+pi/2, evaluate=False) + sin(pi*t))*u\n",
    "\n",
    "display(signal_a, signal_b, signal_c, signal_d)"
   ]
  },
  {
   "cell_type": "code",
   "execution_count": 14,
   "metadata": {},
   "outputs": [
    {
     "data": {
      "text/latex": [
       "$\\displaystyle \\frac{e^{- \\frac{i \\pi}{3}}}{2 \\left(s + 2 i \\pi\\right)} + \\frac{e^{\\frac{i \\pi}{3}}}{2 \\left(s - 2 i \\pi\\right)}$"
      ],
      "text/plain": [
       "exp(-I*pi/3)/(2*(s + 2*I*pi)) + exp(I*pi/3)/(2*(s - 2*I*pi))"
      ]
     },
     "metadata": {},
     "output_type": "display_data"
    },
    {
     "data": {
      "text/latex": [
       "$\\displaystyle \\frac{6}{\\left(s + 2\\right)^{4}}$"
      ],
      "text/plain": [
       "6/(s + 2)**4"
      ]
     },
     "metadata": {},
     "output_type": "display_data"
    },
    {
     "data": {
      "text/latex": [
       "$\\displaystyle \\frac{1}{s}$"
      ],
      "text/plain": [
       "1/s"
      ]
     },
     "metadata": {},
     "output_type": "display_data"
    },
    {
     "data": {
      "text/latex": [
       "$\\displaystyle 0$"
      ],
      "text/plain": [
       "0"
      ]
     },
     "metadata": {},
     "output_type": "display_data"
    }
   ],
   "source": [
    "from sympy import laplace_transform\n",
    "\n",
    "l_signal_a = laplace_transform(signal_a,t,s, noconds=True)\n",
    "l_signal_b = laplace_transform(signal_b,t,s, noconds=True)\n",
    "l_signal_c = laplace_transform(signal_c,t,s, noconds=True)\n",
    "l_signal_d = laplace_transform(signal_d,t,s, noconds=True)\n",
    "\n",
    "display(l_signal_a, l_signal_b, l_signal_c, l_signal_d)"
   ]
  }
 ],
 "metadata": {
  "kernelspec": {
   "display_name": "Python 3",
   "language": "python",
   "name": "python3"
  },
  "language_info": {
   "codemirror_mode": {
    "name": "ipython",
    "version": 3
   },
   "file_extension": ".py",
   "mimetype": "text/x-python",
   "name": "python",
   "nbconvert_exporter": "python",
   "pygments_lexer": "ipython3",
   "version": "3.10.11"
  }
 },
 "nbformat": 4,
 "nbformat_minor": 2
}
